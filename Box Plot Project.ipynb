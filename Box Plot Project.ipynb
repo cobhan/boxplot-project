{
 "cells": [
  {
   "cell_type": "markdown",
   "metadata": {},
   "source": [
    "<img src=\"https://learnonline.gmit.ie/pluginfile.php/1/theme_adaptable/logo/1544014179/Transparent%20new.png\" align=\"left\"><br><br>\n",
    "<h1 align=\"left\">Higher Diploma in Science in Computing (Data Analytics) - Fundamentals of Data Analysis</h1>\n",
    "<h2>Boxplot Project - December 2018</h2>\n",
    "<h3>Cóbhan Phillipson</h3>\n",
    "<hr>"
   ]
  },
  {
   "cell_type": "markdown",
   "metadata": {
    "collapsed": true
   },
   "source": [
    "<h3>Introduction</h3>\n",
    "<p>This project is conducted as part of the Fundamentals of Data Analysis module in the Higher Diploma in Science in Computing (Data Analytics) in GMIT.</p>\n",
    "\n",
    "<p>In this project, I will investigate and explain box plots and their uses. I will:</p>\n",
    "<ul><li>Summarise the history of the box plot and situations in which it used.</li>\n",
    "<li>Demonstrate the use of the box plot using data of your choosing.</li>\n",
    "<li>Explain any relevant terminology such as the terms quartile and percentile.</li>\n",
    "<li>Compare the box plot to alternatives.</li></ul>"
   ]
  },
  {
   "cell_type": "markdown",
   "metadata": {},
   "source": [
    "<h3>The History of the Box Plot</h3>\n",
    "<p>Box-and-whisker plot, also called boxplot or box plot, graph that summarizes numerical data based on quartiles, which divide a data set into fourths. The box-and-whisker plot is useful for revealing the central tendency and variability of a data set, the distribution (particularly symmetry or skewness) of the data, and the presence of outliers. It is also a powerful graphical technique for comparing samples from two or more different treatments or populations. It was invented in the 1970s by American statistician John Wilder Tukey.\n",
    "\n",
    "<p>The box plot, sometimes known as a 'boxplot' or 'box and whiskers plot', is a graph that depicts numerical datasets based on quartiles. To create a box plot from a dataset, the creator must identify the following:</p>\n",
    "\n",
    "<ul><li>The median value</li>\n",
    "<li>Two hinges - the first and third quartile value</li>\n",
    "<li>Upper and lower whiskers - Maximum and minimum values that aren't outliers</li>\n",
    "<li>Any potential out-liers - those individual points further away from the median than the extremes</li></ul>\n",
    "\n",
    "<p>Example box plot:</p>\n",
    "<img src=\"https://upload.wikimedia.org/wikipedia/commons/f/fa/Michelsonmorley-boxplot.svg\" align=\"left\">\n",
    "\n"
   ]
  },
  {
   "cell_type": "code",
   "execution_count": null,
   "metadata": {
    "collapsed": true
   },
   "outputs": [],
   "source": []
  }
 ],
 "metadata": {
  "kernelspec": {
   "display_name": "Python 3",
   "language": "python",
   "name": "python3"
  },
  "language_info": {
   "codemirror_mode": {
    "name": "ipython",
    "version": 3
   },
   "file_extension": ".py",
   "mimetype": "text/x-python",
   "name": "python",
   "nbconvert_exporter": "python",
   "pygments_lexer": "ipython3",
   "version": "3.6.3"
  }
 },
 "nbformat": 4,
 "nbformat_minor": 2
}
