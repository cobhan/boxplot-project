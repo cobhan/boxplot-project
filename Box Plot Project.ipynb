{
 "cells": [
  {
   "cell_type": "markdown",
   "metadata": {},
   "source": [
    "<img src=\"https://learnonline.gmit.ie/pluginfile.php/1/theme_adaptable/logo/1544014179/Transparent%20new.png\" align=\"left\"><br><br>\n",
    "<h1 align=\"left\">Higher Diploma in Science in Computing (Data Analytics) - Fundamentals of Data Analysis</h1>\n",
    "<h2>Boxplot Project - December 2018</h2>\n",
    "<h3>Cóbhan Phillipson</h3>\n",
    "<hr>"
   ]
  },
  {
   "cell_type": "markdown",
   "metadata": {
    "collapsed": true
   },
   "source": [
    "<h3>Introduction</h3>\n",
    "<p>This project is conducted as part of the Fundamentals of Data Analysis module in the Higher Diploma in Science in Computing (Data Analytics) in GMIT.</p>\n",
    "\n",
    "<p>In this project, I will investigate and explain box plots and their uses. I will:</p>\n",
    "<ul><li>Summarise the history of the box plot and situations in which it used.</li>\n",
    "<li>Demonstrate the use of the box plot using data of your choosing.</li>\n",
    "<li>Explain any relevant terminology such as the terms quartile and percentile.</li>\n",
    "<li>Compare the box plot to alternatives.</li></ul>"
   ]
  },
  {
   "cell_type": "markdown",
   "metadata": {},
   "source": [
    "<h3>The History of the Box Plot</h3>\n",
    "\n",
    "<p>The box plot, sometimes known as a 'boxplot' or 'box and whiskers plot', is a graph that depicts numerical datasets based on quartiles. It was invented in the 1970s by the American statistician John Wilder Tukey and can be used to identify if a distribution is skewed and whether whether or not there are any outliers.  To create a box plot from a dataset, the creator must identify the following:</p>\n",
    "\n",
    "<ul><li>The median value</li>\n",
    "<li>Two hinges - the first and third quartile value</li>\n",
    "<li>Upper and lower whiskers - Maximum and minimum values that aren't outliers</li>\n",
    "<li>Any potential out-liers - those individual points further away from the median than the extremes</li></ul>\n",
    "\n",
    "<p>Example box plot:</p>\n",
    "<div><p><img src=\"https://upload.wikimedia.org/wikipedia/commons/f/fa/Michelsonmorley-boxplot.svg\" align=\"left\"></p></div>\n",
    "<br clear=\"all\" />\n",
    "<p>Box plots are useful in the following situations:</p>\n",
    "<ul><li><strong>Comparison of multiple datasets.</strong> Box plots immediately highlight differences between center, spread, and range of different datasets.</li>\n",
    "<li><strong>Summarizing data.</strong> Box plots are ideal for quickly summarizing datasets - and because they only focus on key data points, they can easily handle large datasets.</li>\n",
    "<li><strong>Identifying outliers.</strong> Outliers can be the most interesting points in a dataset. Even if the outlier turns out to be unimportant, the outlier will, at the very least, deserve some level of further investigation. An outlier on a boxplot are datapoints which lie beyond the quartiles by one-and-a-half times the interquartile range can be classed as potential outliers.</li></ul>\n"
   ]
  },
  {
   "cell_type": "markdown",
   "metadata": {
    "collapsed": true
   },
   "source": [
    "<h3>Box Plot Demonstration</h3>\n",
    "<p>In this section, I will demonstrate how to use a box plot. I have decided to analyze the age distribution of each team in the English Premier League during the 2017/2018 season. I will use the Pandas library for Python to read a csv file containing our dataset.</p>"
   ]
  },
  {
   "cell_type": "code",
   "execution_count": 2,
   "metadata": {},
   "outputs": [
    {
     "name": "stdout",
     "output_type": "stream",
     "text": [
      "                        name         club  age position  position_cat  \\\n",
      "0             Alexis Sanchez      Arsenal   28       LW             1   \n",
      "1                 Mesut Ozil      Arsenal   28       AM             1   \n",
      "2                  Petr Cech      Arsenal   35       GK             4   \n",
      "3               Theo Walcott      Arsenal   28       RW             1   \n",
      "4          Laurent Koscielny      Arsenal   31       CB             3   \n",
      "5            Hector Bellerin      Arsenal   22       RB             3   \n",
      "6             Olivier Giroud      Arsenal   30       CF             1   \n",
      "7              Nacho Monreal      Arsenal   31       LB             3   \n",
      "8           Shkodran Mustafi      Arsenal   25       CB             3   \n",
      "9                 Alex Iwobi      Arsenal   21       LW             1   \n",
      "10              Granit Xhaka      Arsenal   24       DM             2   \n",
      "11   Alex Oxlade-Chamberlain      Arsenal   23       RM             2   \n",
      "12             Jack Wilshere      Arsenal   25       CM             2   \n",
      "13              Aaron Ramsey      Arsenal   26       CM             2   \n",
      "14          Francis Coquelin      Arsenal   26       DM             2   \n",
      "15          Gabriel Paulista      Arsenal   26       CB             3   \n",
      "16              Kieran Gibbs      Arsenal   27       LB             3   \n",
      "17             Santi Cazorla      Arsenal   32       CM             2   \n",
      "18             Danny Welbeck      Arsenal   26       CF             1   \n",
      "19               Rob Holding      Arsenal   21       CB             3   \n",
      "20            Mohamed Elneny      Arsenal   25       DM             2   \n",
      "21               Lucas Perez      Arsenal   28       CF             1   \n",
      "22         Emiliano Martinez      Arsenal   24       GK             4   \n",
      "23              David Ospina      Arsenal   28       GK             4   \n",
      "24            Carl Jenkinson      Arsenal   25       RB             3   \n",
      "25           Per Mertesacker      Arsenal   32       CB             3   \n",
      "26            Sead Kolasinac      Arsenal   24       LB             3   \n",
      "27       Alexandre Lacazette      Arsenal   26       CF             1   \n",
      "28               Joshua King  Bournemouth   25       SS             1   \n",
      "29             Jermain Defoe  Bournemouth   34       CF             1   \n",
      "..                       ...          ...  ...      ...           ...   \n",
      "431            Jay Rodriguez    West+Brom   27       CF             1   \n",
      "432            Claudio Yacob    West+Brom   30       DM             2   \n",
      "433            James McClean    West+Brom   28       LW             1   \n",
      "434          Hal Robson-Kanu    West+Brom   28       LW             1   \n",
      "435            Jonathan Leko    West+Brom   18       RW             1   \n",
      "436                Sam Field    West+Brom   19       CM             2   \n",
      "437              Boaz Myhill    West+Brom   34       GK             4   \n",
      "438             Ahmed Hegazy    West+Brom   26       CB             3   \n",
      "439         Robert Snodgrass     West+Ham   29       RW             1   \n",
      "440           Manuel Lanzini     West+Ham   24       AM             1   \n",
      "441          Michail Antonio     West+Ham   27       RW             1   \n",
      "442             Winston Reid     West+Ham   29       CB             3   \n",
      "443               Jose Fonte     West+Ham   33       CB             3   \n",
      "444               Andre Ayew     West+Ham   27       LW             1   \n",
      "445         Cheikhou Kouyate     West+Ham   27       DM             2   \n",
      "446               Mark Noble     West+Ham   30       CM             2   \n",
      "447          Darren Randolph     West+Ham   30       GK             4   \n",
      "448            James Collins     West+Ham   33       CB             3   \n",
      "449             Andy Carroll     West+Ham   28       CF             1   \n",
      "450                   Adrian     West+Ham   30       GK             4   \n",
      "451          Aaron Cresswell     West+Ham   27       LB             3   \n",
      "452             Pedro Obiang     West+Ham   25       CM             2   \n",
      "453         Sofiane Feghouli     West+Ham   27       RW             1   \n",
      "454           Angelo Ogbonna     West+Ham   29       CB             3   \n",
      "455           Pablo Zabaleta     West+Ham   32       RB             3   \n",
      "456      Edimilson Fernandes     West+Ham   21       CM             2   \n",
      "457           Arthur Masuaku     West+Ham   23       LB             3   \n",
      "458                Sam Byram     West+Ham   23       RB             3   \n",
      "459          Ashley Fletcher     West+Ham   21       CF             1   \n",
      "460             Diafra Sakho     West+Ham   27       CF             1   \n",
      "\n",
      "     market_value  page_views  fpl_value fpl_sel  fpl_points  region  \\\n",
      "0           65.00        4329       12.0  17.10%         264     3.0   \n",
      "1           50.00        4395        9.5   5.60%         167     2.0   \n",
      "2            7.00        1529        5.5   5.90%         134     2.0   \n",
      "3           20.00        2393        7.5   1.50%         122     1.0   \n",
      "4           22.00         912        6.0   0.70%         121     2.0   \n",
      "5           30.00        1675        6.0  13.70%         119     2.0   \n",
      "6           22.00        2230        8.5   2.50%         116     2.0   \n",
      "7           13.00         555        5.5   4.70%         115     2.0   \n",
      "8           30.00        1877        5.5   4.00%          90     2.0   \n",
      "9           10.00        1812        5.5   1.00%          89     4.0   \n",
      "10          35.00        1815        5.5   2.00%          85     2.0   \n",
      "11          22.00        1519        6.0   1.80%          83     1.0   \n",
      "12          18.00        1759        5.5   0.00%          61     1.0   \n",
      "13          35.00        1040        7.0   5.10%          56     1.0   \n",
      "14          15.00         549        4.5   1.70%          52     2.0   \n",
      "15          13.00         552        5.0   0.10%          45     3.0   \n",
      "16          10.00         489        5.0   0.50%          45     1.0   \n",
      "17          12.00         943        7.0   0.10%          38     2.0   \n",
      "18          15.00        1521        7.5   0.50%          37     1.0   \n",
      "19           7.00         666        5.0   1.70%          32     1.0   \n",
      "20          10.00         683        4.5   0.80%          26     4.0   \n",
      "21          15.00        2055        7.5   0.10%          20     2.0   \n",
      "22           1.00         372        4.0   4.20%           8     3.0   \n",
      "23           7.00         544        5.0   0.20%           2     3.0   \n",
      "24           5.00         561        4.5   0.40%           2     1.0   \n",
      "25           6.00         702        5.0   1.00%           1     2.0   \n",
      "26          15.00         618        6.0   6.90%           0     2.0   \n",
      "27          40.00        1183       10.5  26.50%           0     2.0   \n",
      "28           8.00         997        7.5  10.40%         178     2.0   \n",
      "29           5.00        3213        8.0  15.00%         166     1.0   \n",
      "..            ...         ...        ...     ...         ...     ...   \n",
      "431         10.00         472        6.0   2.90%          73     1.0   \n",
      "432          4.00         165        4.5   0.40%          54     3.0   \n",
      "433          3.00         454        5.0   0.20%          52     2.0   \n",
      "434          2.50         766        5.0   0.70%          52     2.0   \n",
      "435          1.50         169        4.5   0.20%          12     1.0   \n",
      "436          0.25          15        4.5   0.10%           9     1.0   \n",
      "437          1.50         100        4.0   5.30%           0     2.0   \n",
      "438          1.00          82        4.5   1.30%           0     4.0   \n",
      "439          8.00        1210        6.0   6.50%         133     2.0   \n",
      "440         15.00         493        7.0   7.20%         133     3.0   \n",
      "441         18.00        1142        7.5   0.50%         132     1.0   \n",
      "442         10.00         338        5.0   0.40%         102     4.0   \n",
      "443          7.00         867        5.0   2.10%          98     2.0   \n",
      "444         18.00         845        7.0   3.40%          89     4.0   \n",
      "445         12.00         284        5.0   0.10%          79     4.0   \n",
      "446          7.00         425        5.5   0.10%          71     1.0   \n",
      "447          2.50         459        4.5   0.40%          69     2.0   \n",
      "448          2.00         187        4.5   0.90%          69     2.0   \n",
      "449         10.00        1212        6.0   0.40%          69     1.0   \n",
      "450          8.00         266        4.5   0.80%          64     2.0   \n",
      "451         12.00         380        5.0   1.30%          60     1.0   \n",
      "452          9.00         286        4.5   0.30%          55     2.0   \n",
      "453         12.00         394        5.5   0.20%          55     4.0   \n",
      "454          9.00         247        4.5   1.10%          45     2.0   \n",
      "455          7.00         698        5.0   2.70%          45     3.0   \n",
      "456          5.00         288        4.5   0.40%          38     2.0   \n",
      "457          7.00         199        4.5   0.20%          34     4.0   \n",
      "458          4.50         198        4.5   0.30%          29     1.0   \n",
      "459          1.00         412        4.5   5.90%          16     1.0   \n",
      "460         10.00         214        5.5   0.10%          12     4.0   \n",
      "\n",
      "        nationality  new_foreign  age_cat  club_id  big_club  new_signing  \n",
      "0             Chile            0        4        1         1            0  \n",
      "1           Germany            0        4        1         1            0  \n",
      "2    Czech Republic            0        6        1         1            0  \n",
      "3           England            0        4        1         1            0  \n",
      "4            France            0        4        1         1            0  \n",
      "5             Spain            0        2        1         1            0  \n",
      "6            France            0        4        1         1            0  \n",
      "7             Spain            0        4        1         1            0  \n",
      "8           Germany            0        3        1         1            1  \n",
      "9           Nigeria            0        1        1         1            0  \n",
      "10      Switzerland            0        2        1         1            0  \n",
      "11          England            0        2        1         1            0  \n",
      "12          England            0        3        1         1            0  \n",
      "13            Wales            0        3        1         1            0  \n",
      "14           France            0        3        1         1            0  \n",
      "15           Brazil            0        3        1         1            0  \n",
      "16          England            0        3        1         1            0  \n",
      "17            Spain            0        5        1         1            0  \n",
      "18          England            0        3        1         1            0  \n",
      "19          England            0        1        1         1            1  \n",
      "20            Egypt            0        3        1         1            0  \n",
      "21            Spain            0        4        1         1            1  \n",
      "22        Argentina            0        2        1         1            0  \n",
      "23         Colombia            0        4        1         1            0  \n",
      "24          England            0        3        1         1            0  \n",
      "25          Germany            0        5        1         1            0  \n",
      "26           Bosnia            1        2        1         1            0  \n",
      "27           France            1        3        1         1            0  \n",
      "28           Norway            0        3        2         0            0  \n",
      "29          England            0        6        2         0            0  \n",
      "..              ...          ...      ...      ...       ...          ...  \n",
      "431         England            0        3       19         0            0  \n",
      "432       Argentina            0        4       19         0            0  \n",
      "433         Ireland            0        4       19         0            0  \n",
      "434           Wales            0        4       19         0            1  \n",
      "435         England            0        1       19         0            0  \n",
      "436         England            0        1       19         0            0  \n",
      "437           Wales            0        6       19         0            0  \n",
      "438           Egypt            1        3       19         0            0  \n",
      "439        Scotland            0        4       20         0            0  \n",
      "440       Argentina            0        2       20         0            0  \n",
      "441         England            0        3       20         0            0  \n",
      "442     New Zealand            0        4       20         0            0  \n",
      "443        Portugal            0        5       20         0            1  \n",
      "444           Ghana            0        3       20         0            1  \n",
      "445         Senegal            0        3       20         0            0  \n",
      "446         England            0        4       20         0            0  \n",
      "447         Ireland            0        4       20         0            0  \n",
      "448           Wales            0        5       20         0            0  \n",
      "449         England            0        4       20         0            0  \n",
      "450           Spain            0        4       20         0            0  \n",
      "451         England            0        3       20         0            0  \n",
      "452           Spain            0        3       20         0            0  \n",
      "453         Algeria            0        3       20         0            1  \n",
      "454           Italy            0        4       20         0            0  \n",
      "455       Argentina            0        5       20         0            0  \n",
      "456     Switzerland            0        1       20         0            1  \n",
      "457        Congo DR            0        2       20         0            1  \n",
      "458         England            0        2       20         0            0  \n",
      "459         England            0        1       20         0            1  \n",
      "460         Senegal            0        3       20         0            0  \n",
      "\n",
      "[461 rows x 17 columns]\n"
     ]
    }
   ],
   "source": [
    "import pandas as pd #import library\n",
    "df = pd.read_csv(\"epldata_final.csv\") #read csv file containing our dataset\n",
    "print(df) #print our data set to check that our csv is being read correctly"
   ]
  },
  {
   "cell_type": "markdown",
   "metadata": {},
   "source": [
    "<p>One issue here is that our dataframe contains a lot of superfluous information such as fantasy football stats. We are primarily concerned with the age distribution of the 20 squads, so a good first step here is to drop all these extra, uninteresting columns from our dataframe. I will achieve this with the drop function.</p>"
   ]
  },
  {
   "cell_type": "code",
   "execution_count": 8,
   "metadata": {},
   "outputs": [
    {
     "name": "stdout",
     "output_type": "stream",
     "text": [
      "                        name         club  age position     nationality\n",
      "0             Alexis Sanchez      Arsenal   28       LW           Chile\n",
      "1                 Mesut Ozil      Arsenal   28       AM         Germany\n",
      "2                  Petr Cech      Arsenal   35       GK  Czech Republic\n",
      "3               Theo Walcott      Arsenal   28       RW         England\n",
      "4          Laurent Koscielny      Arsenal   31       CB          France\n",
      "5            Hector Bellerin      Arsenal   22       RB           Spain\n",
      "6             Olivier Giroud      Arsenal   30       CF          France\n",
      "7              Nacho Monreal      Arsenal   31       LB           Spain\n",
      "8           Shkodran Mustafi      Arsenal   25       CB         Germany\n",
      "9                 Alex Iwobi      Arsenal   21       LW         Nigeria\n",
      "10              Granit Xhaka      Arsenal   24       DM     Switzerland\n",
      "11   Alex Oxlade-Chamberlain      Arsenal   23       RM         England\n",
      "12             Jack Wilshere      Arsenal   25       CM         England\n",
      "13              Aaron Ramsey      Arsenal   26       CM           Wales\n",
      "14          Francis Coquelin      Arsenal   26       DM          France\n",
      "15          Gabriel Paulista      Arsenal   26       CB          Brazil\n",
      "16              Kieran Gibbs      Arsenal   27       LB         England\n",
      "17             Santi Cazorla      Arsenal   32       CM           Spain\n",
      "18             Danny Welbeck      Arsenal   26       CF         England\n",
      "19               Rob Holding      Arsenal   21       CB         England\n",
      "20            Mohamed Elneny      Arsenal   25       DM           Egypt\n",
      "21               Lucas Perez      Arsenal   28       CF           Spain\n",
      "22         Emiliano Martinez      Arsenal   24       GK       Argentina\n",
      "23              David Ospina      Arsenal   28       GK        Colombia\n",
      "24            Carl Jenkinson      Arsenal   25       RB         England\n",
      "25           Per Mertesacker      Arsenal   32       CB         Germany\n",
      "26            Sead Kolasinac      Arsenal   24       LB          Bosnia\n",
      "27       Alexandre Lacazette      Arsenal   26       CF          France\n",
      "28               Joshua King  Bournemouth   25       SS          Norway\n",
      "29             Jermain Defoe  Bournemouth   34       CF         England\n",
      "..                       ...          ...  ...      ...             ...\n",
      "431            Jay Rodriguez    West+Brom   27       CF         England\n",
      "432            Claudio Yacob    West+Brom   30       DM       Argentina\n",
      "433            James McClean    West+Brom   28       LW         Ireland\n",
      "434          Hal Robson-Kanu    West+Brom   28       LW           Wales\n",
      "435            Jonathan Leko    West+Brom   18       RW         England\n",
      "436                Sam Field    West+Brom   19       CM         England\n",
      "437              Boaz Myhill    West+Brom   34       GK           Wales\n",
      "438             Ahmed Hegazy    West+Brom   26       CB           Egypt\n",
      "439         Robert Snodgrass     West+Ham   29       RW        Scotland\n",
      "440           Manuel Lanzini     West+Ham   24       AM       Argentina\n",
      "441          Michail Antonio     West+Ham   27       RW         England\n",
      "442             Winston Reid     West+Ham   29       CB     New Zealand\n",
      "443               Jose Fonte     West+Ham   33       CB        Portugal\n",
      "444               Andre Ayew     West+Ham   27       LW           Ghana\n",
      "445         Cheikhou Kouyate     West+Ham   27       DM         Senegal\n",
      "446               Mark Noble     West+Ham   30       CM         England\n",
      "447          Darren Randolph     West+Ham   30       GK         Ireland\n",
      "448            James Collins     West+Ham   33       CB           Wales\n",
      "449             Andy Carroll     West+Ham   28       CF         England\n",
      "450                   Adrian     West+Ham   30       GK           Spain\n",
      "451          Aaron Cresswell     West+Ham   27       LB         England\n",
      "452             Pedro Obiang     West+Ham   25       CM           Spain\n",
      "453         Sofiane Feghouli     West+Ham   27       RW         Algeria\n",
      "454           Angelo Ogbonna     West+Ham   29       CB           Italy\n",
      "455           Pablo Zabaleta     West+Ham   32       RB       Argentina\n",
      "456      Edimilson Fernandes     West+Ham   21       CM     Switzerland\n",
      "457           Arthur Masuaku     West+Ham   23       LB        Congo DR\n",
      "458                Sam Byram     West+Ham   23       RB         England\n",
      "459          Ashley Fletcher     West+Ham   21       CF         England\n",
      "460             Diafra Sakho     West+Ham   27       CF         Senegal\n",
      "\n",
      "[461 rows x 5 columns]\n"
     ]
    }
   ],
   "source": [
    "df = df.drop(['page_views', 'fpl_value', 'fpl_sel', 'fpl_points', 'region', 'position_cat', 'new_foreign', 'age_cat', 'club_id', 'big_club', 'new_signing'], axis=1)\n",
    "print(df)"
   ]
  },
  {
   "cell_type": "code",
   "execution_count": 9,
   "metadata": {},
   "outputs": [
    {
     "data": {
      "text/html": [
       "<div>\n",
       "<style>\n",
       "    .dataframe thead tr:only-child th {\n",
       "        text-align: right;\n",
       "    }\n",
       "\n",
       "    .dataframe thead th {\n",
       "        text-align: left;\n",
       "    }\n",
       "\n",
       "    .dataframe tbody tr th {\n",
       "        vertical-align: top;\n",
       "    }\n",
       "</style>\n",
       "<table border=\"1\" class=\"dataframe\">\n",
       "  <thead>\n",
       "    <tr style=\"text-align: right;\">\n",
       "      <th></th>\n",
       "      <th>age</th>\n",
       "    </tr>\n",
       "  </thead>\n",
       "  <tbody>\n",
       "    <tr>\n",
       "      <th>count</th>\n",
       "      <td>461.000000</td>\n",
       "    </tr>\n",
       "    <tr>\n",
       "      <th>mean</th>\n",
       "      <td>26.804772</td>\n",
       "    </tr>\n",
       "    <tr>\n",
       "      <th>std</th>\n",
       "      <td>3.961892</td>\n",
       "    </tr>\n",
       "    <tr>\n",
       "      <th>min</th>\n",
       "      <td>17.000000</td>\n",
       "    </tr>\n",
       "    <tr>\n",
       "      <th>25%</th>\n",
       "      <td>24.000000</td>\n",
       "    </tr>\n",
       "    <tr>\n",
       "      <th>50%</th>\n",
       "      <td>27.000000</td>\n",
       "    </tr>\n",
       "    <tr>\n",
       "      <th>75%</th>\n",
       "      <td>30.000000</td>\n",
       "    </tr>\n",
       "    <tr>\n",
       "      <th>max</th>\n",
       "      <td>38.000000</td>\n",
       "    </tr>\n",
       "  </tbody>\n",
       "</table>\n",
       "</div>"
      ],
      "text/plain": [
       "              age\n",
       "count  461.000000\n",
       "mean    26.804772\n",
       "std      3.961892\n",
       "min     17.000000\n",
       "25%     24.000000\n",
       "50%     27.000000\n",
       "75%     30.000000\n",
       "max     38.000000"
      ]
     },
     "execution_count": 9,
     "metadata": {},
     "output_type": "execute_result"
    }
   ],
   "source": [
    "df.describe() #use the describe function to give us nice overview of our dataset. "
   ]
  },
  {
   "cell_type": "markdown",
   "metadata": {},
   "source": [
    "<p>Now that we are happy with our dataset, we can move onto creating the box plot. To do so, I am going to use the matplotlib plotting library for Python.</p>"
   ]
  },
  {
   "cell_type": "code",
   "execution_count": 13,
   "metadata": {},
   "outputs": [
    {
     "data": {
      "text/plain": [
       "<matplotlib.axes._subplots.AxesSubplot at 0x111dc3ef0>"
      ]
     },
     "execution_count": 13,
     "metadata": {},
     "output_type": "execute_result"
    },
    {
     "data": {
      "image/png": "[encoded data removed]",
      "text/plain": [
       "<matplotlib.figure.Figure at 0x111de1f98>"
      ]
     },
     "metadata": {},
     "output_type": "display_data"
    }
   ],
   "source": [
    "import matplotlib.pyplot as plt #The first step is importing matplotlib\n",
    "%matplotlib inline #magic line of code - workaround to get our box plot to appear in Jupyter Notebook \n",
    "df.boxplot() "
   ]
  },
  {
   "cell_type": "markdown",
   "metadata": {},
   "source": [
    "<p>There is one mini-issue here. We have a box plot for the age distribution of the whole league. We want to see the age distribution for every team.</p>"
   ]
  },
  {
   "cell_type": "code",
   "execution_count": 23,
   "metadata": {},
   "outputs": [
    {
     "name": "stderr",
     "output_type": "stream",
     "text": [
      "/Users/cobhanphillipson/anaconda3/lib/python3.6/site-packages/numpy/core/fromnumeric.py:57: FutureWarning: reshape is deprecated and will raise in a subsequent release. Please use .values.reshape(...) instead\n",
      "  return getattr(obj, method)(*args, **kwds)\n"
     ]
    },
    {
     "data": {
      "text/plain": [
       "<matplotlib.axes._subplots.AxesSubplot at 0x1153b9c18>"
      ]
     },
     "execution_count": 23,
     "metadata": {},
     "output_type": "execute_result"
    },
    {
     "data": {
      "image/png": "[encoded data removed]",
      "text/plain": [
       "<matplotlib.figure.Figure at 0x1153c1208>"
      ]
     },
     "metadata": {},
     "output_type": "display_data"
    }
   ],
   "source": [
    "df.boxplot(\"age\",by='club') #group by club"
   ]
  },
  {
   "cell_type": "markdown",
   "metadata": {},
   "source": [
    "<p>Going to ignore this warning about the 'reshape' function, because I didn't use 'reshape'. At any rate, our box plot is pretty bare and the x axis labels are running into each other, making it difficult to read.</p> "
   ]
  },
  {
   "cell_type": "code",
   "execution_count": 71,
   "metadata": {},
   "outputs": [
    {
     "name": "stderr",
     "output_type": "stream",
     "text": [
      "/Users/cobhanphillipson/anaconda3/lib/python3.6/site-packages/numpy/core/fromnumeric.py:57: FutureWarning: reshape is deprecated and will raise in a subsequent release. Please use .values.reshape(...) instead\n",
      "  return getattr(obj, method)(*args, **kwds)\n"
     ]
    },
    {
     "data": {
      "text/plain": [
       "<matplotlib.axes._subplots.AxesSubplot at 0x118ef61d0>"
      ]
     },
     "execution_count": 71,
     "metadata": {},
     "output_type": "execute_result"
    },
    {
     "data": {
      "image/png": "[encoded data removed]",
      "text/plain": [
       "<matplotlib.figure.Figure at 0x11a3aaf98>"
      ]
     },
     "metadata": {},
     "output_type": "display_data"
    }
   ],
   "source": [
    "plt.rcParams['figure.figsize'] = (18,6)\n",
    "plt.rcParams.update({'font.size': 12})\n",
    "df.boxplot(\"age\",by='club',rot=90,)#group by club "
   ]
  },
  {
   "cell_type": "markdown",
   "metadata": {
    "collapsed": true
   },
   "source": [
    "<p>Now that our box plot is easier to read, we can start to look at what it is telling us. We know that box plots can show us:</p>\n",
    "<ul><li>If a distribution is skewed</li>\n",
    "<li>Outliers</li>\n",
    "<li>Median</li></ul>\n",
    "\n",
    "<p>There are a few initial observations we can make from looking at our box plot:</p>\n",
    "<ul><li>Man City have the widest spread of ages</li>\n",
    "<li>Huddersfield, Newcastle, and Burnley all have a much narrower spread of ages, primarily concentrated in the 25-29 age bracket.</li>\n",
    "<li>There are 13 outliers in the entire dataset, interestingly 7 of these are comprised of players from West Brom and Newcastle United</li></ul>\n",
    "\n",
    "<p>Going one step further, we can develop a number of assumptions based on our box plot:</p>\n",
    "<ul><li>Teams like Newcastle, Huddersfield, and Burnley who operate on lower budgets than the top teams like Manchester city have a narrower age distribution. A possible reason for this is they are unwilling to take a chance on developing a younger team and instead mainly veer towards what the experts might term \"tried and trusted' players in their mid to late 20s.</li> \n",
    "<li>They certainly seem to like their outliers at Newcastle and West Brom. This follows on from our last point - because the age profile of their players is so concentrated around the mid to late 20s, a 31 year old would only be considered an outlier at Newcastle or Huddersfield.</li></ul>"
   ]
  },
  {
   "cell_type": "markdown",
   "metadata": {},
   "source": [
    "<h3>References</h3>\n",
    "<ol><li>http://vita.had.co.nz/papers/boxplots.pdf</li>\n",
    "<li>https://www.britannica.com/science/box-and-whisker-plot</li>\n",
    "<li>https://en.wikipedia.org/wiki/Box_plot</li>\n",
    "<li>http://mathworld.wolfram.com/Box-and-WhiskerPlot.html</li>\n",
    "<li>https://flowingdata.com/2011/12/06/40-years-of-boxplots/</li>\n",
    "<li>https://stats.stackexchange.com/questions/369393/whats-the-history-of-box-plots-and-how-did-the-box-and-whiskers-design-evolv</li>\n",
    "<li>http://mdk12.msde.maryland.gov/instruction/curriculum/mathematics/graph_box-whisker.html</li>\n",
    "<li>https://plot.ly/~s3505904/4.embed</li>\n",
    "<li>https://www150.statcan.gc.ca/n1/edu/power-pouvoir/ch12/5214889-eng.htm</li>\n",
    "<li>http://www.stat.wmich.edu/s160/book/node8.html</li>\n",
    "<li>https://www.youtube.com/watch?v=hJI0wZV7VnA </li></ol>"
   ]
  },
  {
   "cell_type": "code",
   "execution_count": null,
   "metadata": {
    "collapsed": true
   },
   "outputs": [],
   "source": []
  }
 ],
 "metadata": {
  "kernelspec": {
   "display_name": "Python 3",
   "language": "python",
   "name": "python3"
  },
  "language_info": {
   "codemirror_mode": {
    "name": "ipython",
    "version": 3
   },
   "file_extension": ".py",
   "mimetype": "text/x-python",
   "name": "python",
   "nbconvert_exporter": "python",
   "pygments_lexer": "ipython3",
   "version": "3.6.3"
  }
 },
 "nbformat": 4,
 "nbformat_minor": 2
}
